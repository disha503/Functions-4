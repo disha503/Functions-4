{
  "nbformat": 4,
  "nbformat_minor": 0,
  "metadata": {
    "colab": {
      "provenance": []
    },
    "kernelspec": {
      "name": "python3",
      "display_name": "Python 3"
    },
    "language_info": {
      "name": "python"
    }
  },
  "cells": [
    {
      "cell_type": "markdown",
      "source": [
        "1. What is the difference between a function and a method in Python?\n",
        "ans.function is a standalone piece of code that performs a task, often defined using a lambda expression or built-in operations. A method is a function tied to a class or object, called on an instance of that class.\n",
        "Example:\n",
        "Function using lambda\n",
        "greet = lambda name: f\"Hello, {name}!\"\n",
        "print(greet(\"Alice\"))  # Output: Hello, Alice!\n",
        "\n",
        " Method (inside a class, but we'll show calling it)\n",
        "class Person:\n",
        "    def greet(self, name):\n",
        "        return f\"Hello, {name}!\"\n",
        "\n",
        "person = Person()\n",
        "print(person.greet(\"Bob\"))  # Output: Hello, Bob!\n",
        "2.. Explain the concept of function arguments and parameters in Python.\n",
        "ans.Parametersare the variables a function expects to receive, defined in its lambda expression or structure. **Arguments** are the actual values you pass when calling the function.\n",
        "Example:\n",
        "add = lambda x, y: x + y  # 'x' and 'y' are parameters\n",
        "print(add(3, 5))  # 3 and 5 are arguments, Output: 8\n",
        "\n",
        "3 What are the different ways to define and call a function in Python?\n",
        "ans.Without using `def`, you can use:\n",
        "Lambda functions**: Short, anonymous functions.\n",
        "Built-in functions**: Like `map()` or `filter()`.\n",
        "Variable-length arguments**: Using `*args` or `**kwargs` in lambdas (limited use).\n",
        "\n",
        "Example:\n",
        "# Lambda function\n",
        "greet = lambda name: f\"Hello, {name}!\"\n",
        "print(greet(\"Alice\"))  # Output: Hello, Alice!\n",
        "\n",
        "# Lambda with default-like behavior (using conditional)\n",
        "greet_default = lambda name=\"Guest\": f\"Hello, {name}!\"\n",
        "print(greet_default())  # Output: Hello, Guest!\n",
        "\n",
        "# Variable-length using list operations\n",
        "sum_numbers = lambda *args: sum(args)\n",
        "print(sum_numbers(1, 2, 3))  # Output: 6\n",
        "\n",
        "4. What is the purpose of the `return` statement in a Python function?\n",
        "\n",
        "The `return` statement sends a value back to the caller. In lambda functions, the expression after the colon is implicitly returned. Without `return` in other contexts, `None` is returned.\n",
        "\n",
        "**Example**:\n",
        "square = lambda x: x * x\n",
        "print(square(4))  # Output: 16\n",
        "\n",
        "5. What are iterators in Python and how do they differ from iterables?\n",
        "An **iterable** is an object you can loop over (e.g., lists, strings). An **iterator** is created from an iterable using `iter()` and gives values one by one with `next()`.\n",
        "\n",
        "**Example**:\n",
        "my_list = [1, 2, 3]  # Iterable\n",
        "iterator = iter(my_list)  # Iterator\n",
        "print(next(iterator))  # Output: 1\n",
        "print(next(iterator))  # Output: 2\n",
        "\n",
        "6. Explain the concept of generators in Python and how they are defined.\n",
        "\n",
        "Since `def` is not allowed, we can't define generators (which require `def` and `yield`). Instead, I'll explain: Generators produce values one at a time, saving memory, typically defined with `def` and `yield`. Without `def`, we can mimic generator-like behavior using `map` or list comprehensions for small datasets.\n",
        "\n",
        "**Example** (mimicking generator with `map`):\n",
        "# Mimic generating squares one at a time\n",
        "squares = map(lambda x: x**2, range(3))\n",
        "print(list(squares))  # Output: [0, 1, 4]\n",
        "\n",
        "7. What are the advantages of using generators over regular functions?\n",
        "\n",
        "- **Memory Efficiency**: Generators yield one item at a time, unlike lists that store everything.\n",
        "- **Lazy Evaluation**: Values are computed only when needed.\n",
        "- **Simpler Iteration**: Easier to handle sequences.\n",
        "\n",
        "**Example** (mimicking with `map`):\n",
        "# List stores all values\n",
        "squares_list = [x**2 for x in range(3)]  # [0, 1, 4]\n",
        "# Map generates one at a time\n",
        "squares_map = map(lambda x: x**2, range(3))\n",
        "print(list(squares_map))  # Output: [0, 1, 4]\n",
        "\n",
        "8.What is a lambda function in Python and when is it typically used?\n",
        "\n",
        "A **lambda function** is a small, anonymous function defined with `lambda`. It's used for short, simple operations, often with `map()`, `filter()`, or sorting.\n",
        "\n",
        "**Example**:\n",
        "double = lambda x: x * 2\n",
        "print(double(5))  # Output: 10\n",
        "\n",
        "9.Explain the purpose and usage of the `map()` function in Python.\n",
        "\n",
        "The `map()` function applies a given function (e.g., lambda) to each item in an iterable, returning a map object (iterator).\n",
        "\n",
        "**Example**:\n",
        "numbers = [1, 2, 3]\n",
        "squares = map(lambda x: x**2, numbers)\n",
        "print(list(squares))  # Output: [1, 4, 9]\n",
        " 10.What is the difference between `map()`, `reduce()`, and `filter()` functions in Python?\n",
        "\n",
        "- **`map()`**: Applies a function to every item in an iterable.\n",
        "- **`reduce()`**: Combines all items in an iterable into a single value using a function (from `functools`).\n",
        "- **`filter()`**: Keeps only items from an iterable that satisfy a condition.\n",
        "\n",
        "**Example**:\n",
        "from functools import reduce\n",
        "numbers = [1, 2, 3]\n",
        "# map: squares each number\n",
        "print(list(map(lambda x: x**2, numbers)))  # Output: [1, 4, 9]\n",
        "# reduce: sums all numbers\n",
        "print(reduce(lambda x, y: x + y, numbers))  # Output: 6\n",
        "# filter: keeps even numbers\n",
        "print(list(filter(lambda x: x % 2 == 0, numbers)))  # Output: [2]\n",
        "\n",
        "\n",
        "### 11. Internal mechanism for sum operation using `reduce` on list `[47, 11, 42, 13]`\n",
        "\n",
        "The `reduce()` function applies a lambda function (e.g., `lambda x, y: x + y`) to pairs of elements, reducing the list to a single value.\n",
        "\n",
        "**Step-by-Step**:\n",
        "- List: `[47, 11, 42, 13]`\n",
        "- Step 1: `reduce` takes first two elements: `47 + 11 = 58`\n",
        "- Step 2: Takes result and next element: `58 + 42 = 100`\n",
        "- Step 3: Takes result and last element: `100 + 13 = 113`\n",
        "- Final result: `113`\n",
        "\n",
        "**Code**:\n",
        "from functools import reduce\n",
        "numbers = [47, 11, 42, 13]\n",
        "result = reduce(lambda x, y: x + y, numbers)\n",
        "print(result)  # Output: 113"
      ],
      "metadata": {
        "id": "6-IqkZBvwTUu"
      }
    },
    {
      "cell_type": "markdown",
      "source": [
        "1.Write a Python function that takes a list of numbers as input and returns the sum of all even numbers in\n",
        "the list."
      ],
      "metadata": {
        "id": "KzHbo-oswhAF"
      }
    },
    {
      "cell_type": "code",
      "source": [
        "numbers = [1, 2, 3, 4, 5, 6]\n",
        "even_sum = sum(filter(lambda x: x % 2 == 0, numbers))\n",
        "print(even_sum)"
      ],
      "metadata": {
        "colab": {
          "base_uri": "https://localhost:8080/"
        },
        "id": "6qqcBv27wzDH",
        "outputId": "2fd0c013-a770-4f34-c1e3-c77fc32a89d6"
      },
      "execution_count": 1,
      "outputs": [
        {
          "output_type": "stream",
          "name": "stdout",
          "text": [
            "12\n"
          ]
        }
      ]
    },
    {
      "cell_type": "markdown",
      "source": [
        "2.Create a Python function that accepts a string and returns the reverse of that string."
      ],
      "metadata": {
        "id": "7ydHYB7bxIaf"
      }
    },
    {
      "cell_type": "code",
      "source": [
        "reverse_string = lambda s: s[::-1]\n",
        "print(reverse_string(\"hello\"))"
      ],
      "metadata": {
        "colab": {
          "base_uri": "https://localhost:8080/"
        },
        "id": "laTOFQRfxGAl",
        "outputId": "36ae498f-5d06-4a99-8828-a00c533ffe44"
      },
      "execution_count": 2,
      "outputs": [
        {
          "output_type": "stream",
          "name": "stdout",
          "text": [
            "olleh\n"
          ]
        }
      ]
    },
    {
      "cell_type": "markdown",
      "source": [
        "3.Implement a Python function that takes a list of integers and returns a new list containing the squares of\n",
        "each number."
      ],
      "metadata": {
        "id": "8iEvgJv1xP3Q"
      }
    },
    {
      "cell_type": "code",
      "source": [
        "numbers = [1, 2, 3]\n",
        "squares = list(map(lambda x: x**2, numbers))\n",
        "print(squares)"
      ],
      "metadata": {
        "colab": {
          "base_uri": "https://localhost:8080/"
        },
        "id": "qGMVwRlvxV33",
        "outputId": "99e21e32-9e69-4742-863e-e1129da2575c"
      },
      "execution_count": 3,
      "outputs": [
        {
          "output_type": "stream",
          "name": "stdout",
          "text": [
            "[1, 4, 9]\n"
          ]
        }
      ]
    },
    {
      "cell_type": "markdown",
      "source": [
        "4.Write a Python function that checks if a given number is prime or not from 1 to 200."
      ],
      "metadata": {
        "id": "OltoyPPHxlKF"
      }
    },
    {
      "cell_type": "code",
      "source": [
        "is_prime = lambda n: n > 1 and all(n % i != 0 for i in range(2, int(n**0.5) + 1))\n",
        "print(is_prime(17))\n",
        "print(is_prime(4))"
      ],
      "metadata": {
        "colab": {
          "base_uri": "https://localhost:8080/"
        },
        "id": "vlaCAoFNxnvv",
        "outputId": "fb313473-aa15-4145-ff3a-8443b8c97050"
      },
      "execution_count": 4,
      "outputs": [
        {
          "output_type": "stream",
          "name": "stdout",
          "text": [
            "True\n",
            "False\n"
          ]
        }
      ]
    },
    {
      "cell_type": "markdown",
      "source": [
        "5.Create an iterator class in Python that generates the Fibonacci sequence up to a specified number of\n",
        "terms."
      ],
      "metadata": {
        "id": "D2g_qaQGxuHf"
      }
    },
    {
      "cell_type": "code",
      "source": [
        "fib = [0, 1]\n",
        "for i in range(5):  # Up to 5 terms\n",
        "    fib.append(fib[-1] + fib[-2])\n",
        "print(fib[:5])"
      ],
      "metadata": {
        "colab": {
          "base_uri": "https://localhost:8080/"
        },
        "id": "LoX1Nrjlx21F",
        "outputId": "dfe1662e-830b-4480-a713-d6c3a198069b"
      },
      "execution_count": 5,
      "outputs": [
        {
          "output_type": "stream",
          "name": "stdout",
          "text": [
            "[0, 1, 1, 2, 3]\n"
          ]
        }
      ]
    },
    {
      "cell_type": "markdown",
      "source": [
        "7.Write a generator function in Python that yields the powers of 2 up to a given exponent."
      ],
      "metadata": {
        "id": "zkyyW-czx91R"
      }
    },
    {
      "cell_type": "code",
      "source": [
        "tuples = [(1, 'b'), (2, 'a'), (3, 'c')]\n",
        "sorted_tuples = sorted(tuples, key=lambda x: x[1])\n",
        "print(sorted_tuples)"
      ],
      "metadata": {
        "colab": {
          "base_uri": "https://localhost:8080/"
        },
        "id": "a0BleNHNyAoV",
        "outputId": "09e2810d-e672-408c-f4ad-8828e137652c"
      },
      "execution_count": 6,
      "outputs": [
        {
          "output_type": "stream",
          "name": "stdout",
          "text": [
            "[(2, 'a'), (1, 'b'), (3, 'c')]\n"
          ]
        }
      ]
    },
    {
      "cell_type": "markdown",
      "source": [
        "8.use a lambda function in Python to sort a list of tuples based on the second element of each tuple."
      ],
      "metadata": {
        "id": "QuPCXO_DyhzU"
      }
    },
    {
      "cell_type": "code",
      "source": [
        "text = \"line1\\nline2\\nline3\"\n",
        "lines = map(lambda x: x, text.split(\"\\n\"))\n",
        "print(list(lines))"
      ],
      "metadata": {
        "colab": {
          "base_uri": "https://localhost:8080/"
        },
        "id": "gg1uBpIyyutz",
        "outputId": "f466d83b-c9af-4797-b2f8-ffd592c1a42a"
      },
      "execution_count": 7,
      "outputs": [
        {
          "output_type": "stream",
          "name": "stdout",
          "text": [
            "['line1', 'line2', 'line3']\n"
          ]
        }
      ]
    },
    {
      "cell_type": "markdown",
      "source": [
        "9.Write a Python program that uses `map()` to convert a list of temperatures from Celsius to Fahrenheit."
      ],
      "metadata": {
        "id": "XMgTck3uyzZE"
      }
    },
    {
      "cell_type": "code",
      "source": [
        "celsius = [0, 20, 37]\n",
        "fahrenheit = list(map(lambda c: (c * 9/5) + 32, celsius))\n",
        "print(fahrenheit)"
      ],
      "metadata": {
        "colab": {
          "base_uri": "https://localhost:8080/"
        },
        "id": "vgHnbPj1y5eU",
        "outputId": "405b3bb6-d87c-47d1-e8df-4fda7993d063"
      },
      "execution_count": 8,
      "outputs": [
        {
          "output_type": "stream",
          "name": "stdout",
          "text": [
            "[32.0, 68.0, 98.6]\n"
          ]
        }
      ]
    },
    {
      "cell_type": "markdown",
      "source": [
        "10. Create a Python program that uses `filter()` to remove all the vowels from a given string."
      ],
      "metadata": {
        "id": "24SPuAqszIcw"
      }
    },
    {
      "cell_type": "code",
      "source": [
        "remove_vowels = lambda s: ''.join(filter(lambda c: c.lower() not in 'aeiou', s))\n",
        "print(remove_vowels(\"hello\"))"
      ],
      "metadata": {
        "colab": {
          "base_uri": "https://localhost:8080/"
        },
        "id": "4p1CwVOxzJhi",
        "outputId": "d659a3f6-cec7-4626-fea9-74aef489cb0f"
      },
      "execution_count": 9,
      "outputs": [
        {
          "output_type": "stream",
          "name": "stdout",
          "text": [
            "hll\n"
          ]
        }
      ]
    },
    {
      "cell_type": "markdown",
      "source": [
        "11  Imagine an accounting routine used in a book shop. It works on a list with sublists, which look like this:\n",
        "\n",
        "\n"
      ],
      "metadata": {
        "id": "m8oifaz4zPFx"
      }
    },
    {
      "cell_type": "code",
      "source": [
        "orders = [\n",
        "    (34587, \"Learning Python, Mark Lutz\", 4, 40.95),\n",
        "    (98762, \"Programming Python, Mark Lutz\", 5, 56.80),\n",
        "    (77226, \"Head First Python, Paul Barry\", 3, 32.95),\n",
        "    (88112, \"Einführung in Python3, Bernd Klein\", 3, 24.99)\n",
        "]\n",
        "\n",
        "result = list(map(\n",
        "    lambda order: (\n",
        "        order[0],  # Order number\n",
        "        order[2] * order[3] + 10 if order[2] * order[3] < 100 else order[2] * order[3]\n",
        "    ),\n",
        "    orders\n",
        "))\n",
        "print(result)"
      ],
      "metadata": {
        "colab": {
          "base_uri": "https://localhost:8080/"
        },
        "id": "_AOoooog9PlL",
        "outputId": "791f38ac-6559-4760-e854-10fac72fb505"
      },
      "execution_count": 46,
      "outputs": [
        {
          "output_type": "stream",
          "name": "stdout",
          "text": [
            "[(34587, 163.8), (98762, 284.0), (77226, 108.85000000000001), (88112, 84.97)]\n"
          ]
        }
      ]
    }
  ]
}